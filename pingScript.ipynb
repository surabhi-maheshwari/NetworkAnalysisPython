{
 "cells": [
  {
   "cell_type": "markdown",
   "metadata": {},
   "source": [
    "<b>Ping a list of IP addresses from Amazon Reachability list.</b>\n",
    "\n",
    "Picked one IP from each region, finding network latency(ping 3 times), and finally sort the average latency by region.\n",
    "\n",
    "http://ec2-reachability.amazonaws.com/\n",
    "\n",
    "Expected Output for all 15 regions:\n",
    "1. us-west-1 [50.18.56.1] - 100ms (Smallest average latency)\n",
    "2. xx-xxxx-x [xx.xx.xx.xx] - 200ms\n",
    "3. xx-xxxx-x [xx.xx.xx.xx] - 300ms\n",
    "...\n",
    "15. xx-xxxx-x [xx.xx.xx.xx] - 1000ms (Largest average latency)"
   ]
  },
  {
   "cell_type": "code",
   "execution_count": 2,
   "metadata": {},
   "outputs": [
    {
     "name": "stdout",
     "output_type": "stream",
     "text": [
      "1   us-west-1 [ 13.56.63.251 ]  -  15.019 ms\n",
      "2   us-west-2 [ 35.160.63.253 ]  -  33.151 ms\n",
      "3   us-gov-west-1 [ 52.222.9.163 ]  -  33.465 ms\n",
      "4   us-east-1 [ 34.192.0.54 ]  -  86.005 ms\n",
      "5   ca-central-1 [ 52.60.50.0 ]  -  93.903 ms\n",
      "6   ap-northeast-1 [ 13.230.0.253 ]  -  148.602 ms\n",
      "7   ap-northeast-1 [ 52.192.63.252 ]  -  150.643 ms\n",
      "8   eu-west-2 [ 35.178.0.253 ]  -  159.388 ms\n",
      "9   eu-west-1 [ 34.248.60.213 ]  -  168.555 ms\n",
      "10   ap-northeast-2 [ 13.125.0.253 ]  -  171.661 ms\n",
      "11   eu-central-1 [ 18.196.0.253 ]  -  172.26 ms\n",
      "12   ap-southeast-2 [ 13.210.0.252 ]  -  190.695 ms\n",
      "13   sa-east-1 [ 52.67.255.254 ]  -  194.559 ms\n",
      "14   ap-southeast-1 [ 13.250.0.253 ]  -  266.106 ms\n",
      "15   ap-south-1 [ 13.232.0.253 ]  -  447.311 ms\n"
     ]
    }
   ],
   "source": [
    "#importing desired modules\n",
    "from __future__ import print_function\n",
    "import subprocess\n",
    "import re\n",
    "\n",
    "#Declaring stack and dictionary\n",
    "stack =[]\n",
    "dic = {}\n",
    "\n",
    "#Initialising host and region list \n",
    "host = [\"34.192.0.54\",\"13.56.63.251\",\"34.248.60.213\",\"35.160.63.253\",\"18.196.0.253\",\"35.178.0.253\",\"52.222.9.163\",\"13.230.0.253\",\"52.60.50.0\",\"52.192.63.252\",\"52.67.255.254\",\"13.125.0.253\",\"13.250.0.253\",\"13.210.0.252\",\"13.232.0.253\"]\n",
    "region = [\"us-east-1\",\"us-west-1\",\"eu-west-1\",\"us-west-2\",\"eu-central-1\",\"eu-west-2\",\"us-gov-west-1\",\"ap-northeast-1\",\"ca-central-1\",\"ap-northeast-1\",\"sa-east-1\",\"ap-northeast-2\",\"ap-southeast-1\",\"ap-southeast-2\",\"ap-south-1\"]\n",
    "\n",
    "#Iterating through the host list of IP addresses\n",
    "for ip in host:\n",
    "    #ping the respective IP address\n",
    "    ping = subprocess.Popen(\n",
    "        [\"ping\", \"-c\", \"3\", ip],\n",
    "        stdout = subprocess.PIPE,\n",
    "        stderr = subprocess.PIPE\n",
    "    )\n",
    "    out, error = ping.communicate()\n",
    "    \n",
    "    #Searching the respective string using regular expression\n",
    "    match = re.search('([\\d]*\\.[\\d]*)/([\\d]*\\.[\\d]*)/([\\d]*\\.[\\d]*)/([\\d]*\\.[\\d]*)', str(out))\n",
    "    \n",
    "    #Taking the average value of the latency\n",
    "    ping_avg = match.group(2)\n",
    "    \n",
    "    #Appending the value on stack\n",
    "    stack.append(float(ping_avg))   \n",
    "\n",
    "#Iterating the stacked values and sorting the dictionary\n",
    "for i in range(len(host)):\n",
    "    dic[region[i],host[i]] = stack[i]\n",
    "dic = sorted(dic.items(), key=lambda x: x[1])\n",
    "\n",
    "#Printing the respective values in desired format\n",
    "j=1\n",
    "for i in dic:\n",
    "    for item in i:\n",
    "            print(j,\" \",item[0],\"[\",item[1],\"]\",\" - \",i[-1],\"ms\")\n",
    "            j+=1\n",
    "            break"
   ]
  },
  {
   "cell_type": "code",
   "execution_count": null,
   "metadata": {
    "collapsed": true
   },
   "outputs": [],
   "source": []
  }
 ],
 "metadata": {
  "kernelspec": {
   "display_name": "Python 2",
   "language": "python",
   "name": "python2"
  },
  "language_info": {
   "codemirror_mode": {
    "name": "ipython",
    "version": 2
   },
   "file_extension": ".py",
   "mimetype": "text/x-python",
   "name": "python",
   "nbconvert_exporter": "python",
   "pygments_lexer": "ipython2",
   "version": "2.7.14"
  }
 },
 "nbformat": 4,
 "nbformat_minor": 2
}
